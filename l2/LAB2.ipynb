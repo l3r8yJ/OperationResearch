{
 "cells": [
  {
   "cell_type": "markdown",
   "source": [
    "### ЛР 2 Иванчук Иван ВИП-308"
   ],
   "metadata": {
    "collapsed": false
   }
  },
  {
   "cell_type": "markdown",
   "source": [
    "#### 1. Создать три одномерных массива типа ndarray:\n",
    "1) Из списка [‘k’, ‘f’, ‘a’, ‘h’, ‘c’].\n",
    "2) Из числовой последовательности от 5 до 20 с шагом 2.5.\n",
    "3) 20 чисел из числовой последовательности от 0 до 30."
   ],
   "metadata": {
    "collapsed": false
   }
  },
  {
   "cell_type": "code",
   "execution_count": 108,
   "outputs": [],
   "source": [
    "import math\n",
    "import numpy as np\n",
    "import matplotlib.pyplot as plt"
   ],
   "metadata": {
    "collapsed": false
   }
  },
  {
   "cell_type": "markdown",
   "source": [
    "Из списка [‘k’, ‘f’, ‘a’, ‘h’, ‘c’]."
   ],
   "metadata": {
    "collapsed": false
   }
  },
  {
   "cell_type": "code",
   "execution_count": 109,
   "outputs": [
    {
     "data": {
      "text/plain": "array(['k', 'f', 'a', 'h', 'c'], dtype='<U1')"
     },
     "execution_count": 109,
     "metadata": {},
     "output_type": "execute_result"
    }
   ],
   "source": [
    "np.array(['k', 'f', 'a', 'h', 'c'])"
   ],
   "metadata": {
    "collapsed": false
   }
  },
  {
   "cell_type": "markdown",
   "source": [
    "Из числовой последовательности от 5 до 20 с шагом 2.5"
   ],
   "metadata": {
    "collapsed": false
   }
  },
  {
   "cell_type": "code",
   "execution_count": 110,
   "outputs": [
    {
     "data": {
      "text/plain": "array([ 5. ,  7.5, 10. , 12.5, 15. , 17.5])"
     },
     "execution_count": 110,
     "metadata": {},
     "output_type": "execute_result"
    }
   ],
   "source": [
    "np.arange(5, 20, 2.5)"
   ],
   "metadata": {
    "collapsed": false
   }
  },
  {
   "cell_type": "markdown",
   "source": [
    "20 чисел из числовой последовательности от 0 до 30."
   ],
   "metadata": {
    "collapsed": false
   }
  },
  {
   "cell_type": "code",
   "execution_count": 111,
   "outputs": [
    {
     "data": {
      "text/plain": "array([ 0.        ,  1.57894737,  3.15789474,  4.73684211,  6.31578947,\n        7.89473684,  9.47368421, 11.05263158, 12.63157895, 14.21052632,\n       15.78947368, 17.36842105, 18.94736842, 20.52631579, 22.10526316,\n       23.68421053, 25.26315789, 26.84210526, 28.42105263, 30.        ])"
     },
     "execution_count": 111,
     "metadata": {},
     "output_type": "execute_result"
    }
   ],
   "source": [
    "np.linspace(start=0, stop=30, num=20)"
   ],
   "metadata": {
    "collapsed": false
   }
  },
  {
   "cell_type": "markdown",
   "source": [
    "#### 2. Решить систему линейных алгебраических уравнений\n",
    "Решить систему линейных алгебраических уравнений методами Крамера и\n",
    "обратной матрицы, а также с использованием метода solve из модуля linalg библиотеки\n",
    "numpy.\n",
    "$\n",
    "\\begin{equation*}\n",
    " \\begin{cases}\n",
    "   2x - y + 6z = 24,\n",
    "   \\\\\n",
    "   4x + 4y - 7z = 3,\n",
    "   \\\\\n",
    "   x + 2y + z = 16.\n",
    " \\end{cases}\n",
    "\\end{equation*}\n",
    "$"
   ],
   "metadata": {
    "collapsed": false
   }
  },
  {
   "cell_type": "code",
   "execution_count": 112,
   "outputs": [
    {
     "name": "stdout",
     "output_type": "stream",
     "text": [
      "solved:  [2.8028169  4.67605634 3.84507042]\n",
      "reverse:  [2.8028169  4.67605634 3.84507042]\n",
      "kramer: [2.8028169014084505, 4.676056338028172, 3.8450704225352115]\n"
     ]
    }
   ],
   "source": [
    "def switch_column(origin: list, column: list, num: int) -> list:\n",
    "    copy: list = np.copy(origin)\n",
    "    for idx in range(len(copy)):\n",
    "        copy[idx][num] = column[idx]\n",
    "    return copy\n",
    "\n",
    "A = np.array([\n",
    "    [2, -1, 6],\n",
    "    [4, 4, -7],\n",
    "    [1, 2, 1]\n",
    "])\n",
    "B = np.array([24, 3, 16])\n",
    "reverse = np.linalg.inv(A).dot(B)\n",
    "viaSolve = np.linalg.solve(A, B)\n",
    "det = np.linalg.det(A)\n",
    "det1 = np.linalg.det(switch_column(A, B, 0))\n",
    "det2 = np.linalg.det(switch_column(A, B, 1))\n",
    "det3 = np.linalg.det(switch_column(A, B, 2))\n",
    "\n",
    "print('solved: ', viaSolve)\n",
    "print('reverse: ', reverse)\n",
    "print('kramer:', [det1 / det, det2 / det, det3 / det])"
   ],
   "metadata": {
    "collapsed": false
   }
  },
  {
   "cell_type": "markdown",
   "source": [
    "#### 3. Создать одномерный массив.\n",
    "Создать одномерный массив из 20 случайных вещественных чисел. Найти:\n",
    "максимальное и минимальное значение. Отсортировать по возрастанию."
   ],
   "metadata": {
    "collapsed": false
   }
  },
  {
   "cell_type": "code",
   "execution_count": 113,
   "outputs": [
    {
     "name": "stdout",
     "output_type": "stream",
     "text": [
      "Unsorted:  [0.38796432 0.47298667 0.43775356 0.21051927 0.17788633 0.24639422\n",
      " 0.68279308 0.13045728 0.98189274 0.79878442 0.9125945  0.17501581\n",
      " 0.78386079 0.60908102 0.63280714 0.91087393 0.7474374  0.49497794\n",
      " 0.57054703 0.60033616]\n",
      "max: 0.981892744344793 min: 0.13045727819064423\n",
      "Sorted:  [0.13045728 0.17501581 0.17788633 0.21051927 0.24639422 0.38796432\n",
      " 0.43775356 0.47298667 0.49497794 0.57054703 0.60033616 0.60908102\n",
      " 0.63280714 0.68279308 0.7474374  0.78386079 0.79878442 0.91087393\n",
      " 0.9125945  0.98189274]\n"
     ]
    }
   ],
   "source": [
    "A = np.random.rand(20)\n",
    "print('Unsorted: ', A)\n",
    "print('max: ' + str(A.max()), 'min: ' + str(A.min()))\n",
    "A.sort()\n",
    "print('Sorted: ', A)"
   ],
   "metadata": {
    "collapsed": false
   }
  },
  {
   "cell_type": "markdown",
   "source": [
    "#### 4. Создать двумерный массив\n",
    "Создать двумерный массив A с размерами 5×4 из случайных чисел, распределенных\n",
    "нормально N(3, 22).\n",
    "\n",
    "##### Распечатать:\n",
    "> 1) три последние строки.\n",
    "> 2) второй и третий столбец.\n",
    "\n",
    "##### Найти:\n",
    "> 1) максимальный и минимальный элемент массива;\n",
    "> 2) среднее арифметическое.\n",
    "\n",
    "Транспонировать массив A. После этого удалить последнюю строку, создать одномерный\n",
    "массив из целых чисел (5 элементов) и добавить его в массив A как строку."
   ],
   "metadata": {
    "collapsed": false
   }
  },
  {
   "cell_type": "code",
   "execution_count": 114,
   "outputs": [
    {
     "name": "stdout",
     "output_type": "stream",
     "text": [
      "[[-1.07060472 -2.33677656 -1.07640508 -0.5758431 ]\n",
      " [ 1.1075801  -0.18271373 -0.82620455 -1.06371694]\n",
      " [-0.36159412  0.01778357 -0.00858066 -0.56892568]\n",
      " [-0.87377305 -0.07718712 -0.87205343 -0.50088515]\n",
      " [-1.65959337  0.80155845 -1.17806548  1.53415198]]\n"
     ]
    }
   ],
   "source": [
    "arr = np.random.standard_normal((5, 4))\n",
    "print(arr)"
   ],
   "metadata": {
    "collapsed": false
   }
  },
  {
   "cell_type": "markdown",
   "source": [
    "Три последние строки."
   ],
   "metadata": {
    "collapsed": false
   }
  },
  {
   "cell_type": "code",
   "execution_count": 115,
   "outputs": [
    {
     "name": "stdout",
     "output_type": "stream",
     "text": [
      "[-1.65959337  0.80155845 -1.17806548  1.53415198]\n",
      "[-0.87377305 -0.07718712 -0.87205343 -0.50088515]\n",
      "[-0.36159412  0.01778357 -0.00858066 -0.56892568]\n"
     ]
    }
   ],
   "source": [
    "for i in range(1, 4):\n",
    "    print(arr[-i])"
   ],
   "metadata": {
    "collapsed": false
   }
  },
  {
   "cell_type": "markdown",
   "source": [
    "Второй и третий столбец"
   ],
   "metadata": {
    "collapsed": false
   }
  },
  {
   "cell_type": "code",
   "execution_count": 116,
   "outputs": [
    {
     "name": "stdout",
     "output_type": "stream",
     "text": [
      "[[-2.33677656 -1.07640508]\n",
      " [-0.18271373 -0.82620455]\n",
      " [ 0.01778357 -0.00858066]\n",
      " [-0.07718712 -0.87205343]\n",
      " [ 0.80155845 -1.17806548]]\n"
     ]
    }
   ],
   "source": [
    "print(arr[:, 1:3])"
   ],
   "metadata": {
    "collapsed": false
   }
  },
  {
   "cell_type": "markdown",
   "source": [
    "Транспонировать массив A. После этого удалить последнюю строку, создать одномерный массив из целых чисел (5 элементов) и добавить его в массив A как строку."
   ],
   "metadata": {
    "collapsed": false
   }
  },
  {
   "cell_type": "code",
   "execution_count": 117,
   "outputs": [
    {
     "name": "stdout",
     "output_type": "stream",
     "text": [
      "transpose:\n",
      " [[-1.07060472  1.1075801  -0.36159412 -0.87377305 -1.65959337]\n",
      " [-2.33677656 -0.18271373  0.01778357 -0.07718712  0.80155845]\n",
      " [-1.07640508 -0.82620455 -0.00858066 -0.87205343 -1.17806548]\n",
      " [-0.5758431  -1.06371694 -0.56892568 -0.50088515  1.53415198]]\n",
      "deleted last:\n",
      " [[-1.07060472  1.1075801  -0.36159412 -0.87377305 -1.65959337]\n",
      " [-2.33677656 -0.18271373  0.01778357 -0.07718712  0.80155845]\n",
      " [-1.07640508 -0.82620455 -0.00858066 -0.87205343 -1.17806548]]\n",
      "added temp:\n",
      " [[-1.07060472  1.1075801  -0.36159412 -0.87377305 -1.65959337]\n",
      " [-2.33677656 -0.18271373  0.01778357 -0.07718712  0.80155845]\n",
      " [-1.07640508 -0.82620455 -0.00858066 -0.87205343 -1.17806548]\n",
      " [ 1.          2.          3.          4.          5.        ]]\n"
     ]
    }
   ],
   "source": [
    "arr = arr.transpose()\n",
    "print('transpose:\\n', arr)\n",
    "arr = arr[:-1, :]\n",
    "print('deleted last:\\n', arr)\n",
    "temp = np.array([1, 2, 3, 4, 5])\n",
    "arr = np.vstack((arr, temp))\n",
    "print('added temp:\\n', arr)"
   ],
   "metadata": {
    "collapsed": false
   }
  },
  {
   "cell_type": "markdown",
   "source": [
    "#### 5. Вычислить\n",
    "$\n",
    "\\frac {\\cos \\pi/4 + \\arctan 2} {-10 + \\sin 5\\pi/3} - \\sqrt[3]{5 + \\lg 15} = -2.142334\\dots\n",
    "$"
   ],
   "metadata": {
    "collapsed": false
   }
  },
  {
   "cell_type": "code",
   "execution_count": 118,
   "outputs": [
    {
     "name": "stdout",
     "output_type": "stream",
     "text": [
      "result = -2.1423346265601833\n"
     ]
    }
   ],
   "source": [
    "def fifth():\n",
    "    return (math.cos(math.pi / 4) + math.atan(2)) / (- 10 + math.sin(5 * math.pi / 3)) - pow(5 + math.log(15), 1/3)\n",
    "print('result =', fifth())"
   ],
   "metadata": {
    "collapsed": false
   }
  },
  {
   "cell_type": "markdown",
   "source": [
    "#### 6. Построить графики двух функций\n",
    "_На диаграмму добавить: легенду и подписи осей. Размер графика (10×8) дюймов,\n",
    "шрифт подписей – Times New Roman. Кривая графика функции $f(x)$: цвет линии красный,\n",
    "линия непрерывная, толщина 2 пт, маркер – круги с белой заливкой. Кривая графика\n",
    "функции $g(x)$: цвет линии синий, линия сплошная, толщина 2 пт, маркер – круги с синей\n",
    "заливкой._"
   ],
   "metadata": {
    "collapsed": false
   }
  },
  {
   "cell_type": "markdown",
   "source": [
    "$$\n",
    "f(x) = \\arctan x + \\ln 2x, \\ g(x) = 15x - x^3\n",
    "$$"
   ],
   "metadata": {
    "collapsed": false
   }
  },
  {
   "cell_type": "code",
   "execution_count": 119,
   "outputs": [],
   "source": [
    "def f(x):\n",
    "    return math.atan(x) + math.log(2 * x)\n",
    "def g(x):\n",
    "    return 15 * x - x**3"
   ],
   "metadata": {
    "collapsed": false
   }
  },
  {
   "cell_type": "code",
   "execution_count": 120,
   "outputs": [],
   "source": [
    "x_axis = np.arange(0.1, 5, 0.1)\n",
    "fy_axis = []\n",
    "gy_axis = []\n",
    "for x in x_axis:\n",
    "    fy_axis.append(f(x))\n",
    "    gy_axis.append(g(x))"
   ],
   "metadata": {
    "collapsed": false
   }
  },
  {
   "cell_type": "code",
   "execution_count": 121,
   "outputs": [
    {
     "data": {
      "text/plain": "<Figure size 720x576 with 1 Axes>",
      "image/png": "[encoded data removed]"
     },
     "metadata": {
      "needs_background": "light"
     },
     "output_type": "display_data"
    }
   ],
   "source": [
    "plt.figure(figsize=(10, 8))\n",
    "plt.rcParams[\"font.family\"] = \"serif\"\n",
    "plt.rcParams[\"font.serif\"] = [\"Times New Roman\"]\n",
    "plt.xlabel('x')\n",
    "plt.ylabel('y')\n",
    "plt.plot(x_axis, fy_axis, color='r', label='f(x)', lw=2, fillstyle='none', marker='o')\n",
    "plt.plot(x_axis, gy_axis, color='b', label='g(x)', lw=2, fillstyle='full', marker='o')\n",
    "plt.legend()\n",
    "plt.show()"
   ],
   "metadata": {
    "collapsed": false
   }
  },
  {
   "cell_type": "markdown",
   "source": [],
   "metadata": {
    "collapsed": false
   }
  },
  {
   "cell_type": "markdown",
   "source": [
    " #### 7. Построить столбиковую диаграмму для данных, приведенных в таблице."
   ],
   "metadata": {
    "collapsed": false
   }
  },
  {
   "cell_type": "code",
   "execution_count": 122,
   "outputs": [
    {
     "data": {
      "text/plain": "<Figure size 864x432 with 1 Axes>",
      "image/png": "[encoded data removed]"
     },
     "metadata": {},
     "output_type": "display_data"
    }
   ],
   "source": [
    "x = np.array([\"январь\", \"февраль\", \"март\", \"апрель\", \"май\", \"июнь\"])\n",
    "y = np.array([25, 26, 28, 35, 21, 22])\n",
    "fig, ax = plt.subplots()\n",
    "ax.bar(x, y)\n",
    "ax.set_facecolor('seashell')\n",
    "fig.set_facecolor('floralwhite')\n",
    "fig.set_figwidth(12)\n",
    "fig.set_figheight(6)\n",
    "plt.annotate('минимальные продажи', xy=(\"май\", y.min()), xytext=(\"май\", 30), arrowprops=dict(facecolor='black', shrink=0.05))\n",
    "plt.xlabel('месяц')\n",
    "plt.ylabel('объем продаж')\n",
    "plt.show()"
   ],
   "metadata": {
    "collapsed": false
   }
  }
 ],
 "metadata": {
  "kernelspec": {
   "display_name": "Python 3",
   "language": "python",
   "name": "python3"
  },
  "language_info": {
   "codemirror_mode": {
    "name": "ipython",
    "version": 2
   },
   "file_extension": ".py",
   "mimetype": "text/x-python",
   "name": "python",
   "nbconvert_exporter": "python",
   "pygments_lexer": "ipython2",
   "version": "2.7.6"
  }
 },
 "nbformat": 4,
 "nbformat_minor": 0
}
