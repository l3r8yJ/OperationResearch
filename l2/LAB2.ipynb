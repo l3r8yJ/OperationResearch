{
 "cells": [
  {
   "cell_type": "markdown",
   "source": [
    "### ЛР 2 Иванчук Иван ВИП-308"
   ],
   "metadata": {
    "collapsed": false
   }
  },
  {
   "cell_type": "markdown",
   "source": [
    "#### 1. Создать три одномерных массива типа ndarray:\n",
    "1) Из списка [‘k’, ‘f’, ‘a’, ‘h’, ‘c’].\n",
    "2) Из числовой последовательности от 5 до 20 с шагом 2.5.\n",
    "3) 20 чисел из числовой последовательности от 0 до 30."
   ],
   "metadata": {
    "collapsed": false
   }
  },
  {
   "cell_type": "code",
   "execution_count": 658,
   "outputs": [],
   "source": [
    "import math\n",
    "import numpy as np\n",
    "import matplotlib.pyplot as plt"
   ],
   "metadata": {
    "collapsed": false
   }
  },
  {
   "cell_type": "markdown",
   "source": [
    "Из списка [‘k’, ‘f’, ‘a’, ‘h’, ‘c’]."
   ],
   "metadata": {
    "collapsed": false
   }
  },
  {
   "cell_type": "code",
   "execution_count": 659,
   "outputs": [
    {
     "data": {
      "text/plain": "array(['k', 'f', 'a', 'h', 'c'], dtype='<U1')"
     },
     "execution_count": 659,
     "metadata": {},
     "output_type": "execute_result"
    }
   ],
   "source": [
    "np.array(['k', 'f', 'a', 'h', 'c'])"
   ],
   "metadata": {
    "collapsed": false
   }
  },
  {
   "cell_type": "markdown",
   "source": [
    "Из числовой последовательности от 5 до 20 с шагом 2.5"
   ],
   "metadata": {
    "collapsed": false
   }
  },
  {
   "cell_type": "code",
   "execution_count": 660,
   "outputs": [
    {
     "data": {
      "text/plain": "array([ 5. ,  7.5, 10. , 12.5, 15. , 17.5])"
     },
     "execution_count": 660,
     "metadata": {},
     "output_type": "execute_result"
    }
   ],
   "source": [
    "np.arange(5, 20, 2.5)"
   ],
   "metadata": {
    "collapsed": false
   }
  },
  {
   "cell_type": "markdown",
   "source": [
    "20 чисел из числовой последовательности от 0 до 30."
   ],
   "metadata": {
    "collapsed": false
   }
  },
  {
   "cell_type": "code",
   "execution_count": 661,
   "outputs": [
    {
     "data": {
      "text/plain": "array([ 0.        ,  1.57894737,  3.15789474,  4.73684211,  6.31578947,\n        7.89473684,  9.47368421, 11.05263158, 12.63157895, 14.21052632,\n       15.78947368, 17.36842105, 18.94736842, 20.52631579, 22.10526316,\n       23.68421053, 25.26315789, 26.84210526, 28.42105263, 30.        ])"
     },
     "execution_count": 661,
     "metadata": {},
     "output_type": "execute_result"
    }
   ],
   "source": [
    "np.linspace(start=0, stop=30, num=20)"
   ],
   "metadata": {
    "collapsed": false
   }
  },
  {
   "cell_type": "markdown",
   "source": [
    "#### 2. Решить систему линейных алгебраических уравнений\n",
    "Решить систему линейных алгебраических уравнений методами Крамера и\n",
    "обратной матрицы, а также с использованием метода solve из модуля linalg библиотеки\n",
    "numpy.\n",
    "$\n",
    "\\begin{equation*}\n",
    " \\begin{cases}\n",
    "   2x - y + 6z = 24,\n",
    "   \\\\\n",
    "   4x + 4y - 7z = 3,\n",
    "   \\\\\n",
    "   x + 2y + z = 16.\n",
    " \\end{cases}\n",
    "\\end{equation*}\n",
    "$"
   ],
   "metadata": {
    "collapsed": false
   }
  },
  {
   "cell_type": "code",
   "execution_count": 662,
   "outputs": [
    {
     "name": "stdout",
     "output_type": "stream",
     "text": [
      "solution:  [2.8028169  4.67605634 3.84507042]\n"
     ]
    }
   ],
   "source": [
    "A = np.array([\n",
    "    [2, -1, 6],\n",
    "    [4, 4, -7],\n",
    "    [1, 2, 1]\n",
    "])\n",
    "B = np.array([24, 3, 16])\n",
    "X = np.linalg.solve(A, B)\n",
    "print('solution: ', X)"
   ],
   "metadata": {
    "collapsed": false
   }
  },
  {
   "cell_type": "markdown",
   "source": [
    "#### 3. Создать одномерный массив.\n",
    "Создать одномерный массив из 20 случайных вещественных чисел. Найти:\n",
    "максимальное и минимальное значение. Отсортировать по возрастанию."
   ],
   "metadata": {
    "collapsed": false
   }
  },
  {
   "cell_type": "code",
   "execution_count": 663,
   "outputs": [
    {
     "name": "stdout",
     "output_type": "stream",
     "text": [
      "Unsorted:  [0.03143735 0.45055908 0.58265701 0.3504765  0.4296916  0.42126769\n",
      " 0.04310235 0.002256   0.06424037 0.88235569 0.85373473 0.9651687\n",
      " 0.75798531 0.30476527 0.16842968 0.53725096 0.39006156 0.42825735\n",
      " 0.01497813 0.92513918]\n",
      "max: 0.9651687011838331 min: 0.00225600476676191\n",
      "Sorted:  [0.002256   0.01497813 0.03143735 0.04310235 0.06424037 0.16842968\n",
      " 0.30476527 0.3504765  0.39006156 0.42126769 0.42825735 0.4296916\n",
      " 0.45055908 0.53725096 0.58265701 0.75798531 0.85373473 0.88235569\n",
      " 0.92513918 0.9651687 ]\n"
     ]
    }
   ],
   "source": [
    "A = np.random.rand(20)\n",
    "print('Unsorted: ', A)\n",
    "print('max: ' + str(A.max()), 'min: ' + str(A.min()))\n",
    "A.sort()\n",
    "print('Sorted: ', A)"
   ],
   "metadata": {
    "collapsed": false
   }
  },
  {
   "cell_type": "markdown",
   "source": [
    "#### 5. Вычислить\n",
    "$\n",
    "\\frac {\\cos \\pi/4 + \\arctan 2} {-10 + \\sin 5\\pi/3} - \\sqrt[3]{5 + \\lg 15} = -2.142334\\dots\n",
    "$"
   ],
   "metadata": {
    "collapsed": false
   }
  },
  {
   "cell_type": "code",
   "execution_count": 664,
   "outputs": [
    {
     "name": "stdout",
     "output_type": "stream",
     "text": [
      "result = -2.1423346265601833\n"
     ]
    }
   ],
   "source": [
    "def fifth():\n",
    "    return (math.cos(math.pi / 4) + math.atan(2)) / (- 10 + math.sin(5 * math.pi / 3)) - pow(5 + math.log(15), 1/3)\n",
    "print('result =', fifth())"
   ],
   "metadata": {
    "collapsed": false
   }
  },
  {
   "cell_type": "markdown",
   "source": [
    "#### 6. Построить графики двух функций\n",
    "_На диаграмму добавить: легенду и подписи осей. Размер графика (10×8) дюймов,\n",
    "шрифт подписей – Times New Roman. Кривая графика функции $f(x)$: цвет линии красный,\n",
    "линия непрерывная, толщина 2 пт, маркер – круги с белой заливкой. Кривая графика\n",
    "функции $g(x)$: цвет линии синий, линия сплошная, толщина 2 пт, маркер – круги с синей\n",
    "заливкой._"
   ],
   "metadata": {
    "collapsed": false
   }
  },
  {
   "cell_type": "markdown",
   "source": [
    "$\n",
    "f(x) = \\arctan x + \\ln 2x\n",
    "\n",
    "\\\\\n",
    "\n",
    "g(x) = 15x - x^3\n",
    "$\n"
   ],
   "metadata": {
    "collapsed": false
   }
  },
  {
   "cell_type": "code",
   "execution_count": 665,
   "outputs": [],
   "source": [
    "def f(x):\n",
    "    return math.atan(x) + math.log(2 * x)\n",
    "def g(x):\n",
    "    return 15 * x - x**3"
   ],
   "metadata": {
    "collapsed": false
   }
  },
  {
   "cell_type": "code",
   "execution_count": 666,
   "outputs": [],
   "source": [
    "x_axis = np.arange(0.1, 5, 0.1)\n",
    "fy_axis = []\n",
    "gy_axis = []\n",
    "for x in x_axis:\n",
    "    fy_axis.append(f(x))\n",
    "    gy_axis.append(g(x))"
   ],
   "metadata": {
    "collapsed": false
   }
  },
  {
   "cell_type": "code",
   "execution_count": 667,
   "outputs": [
    {
     "data": {
      "text/plain": "<Figure size 720x576 with 1 Axes>",
      "image/png": "[encoded data removed]"
     },
     "metadata": {
      "needs_background": "light"
     },
     "output_type": "display_data"
    }
   ],
   "source": [
    "plt.figure(figsize=(10, 8))\n",
    "plt.rcParams[\"font.family\"] = \"serif\"\n",
    "plt.rcParams[\"font.serif\"] = [\"Times New Roman\"]\n",
    "plt.xlabel('x')\n",
    "plt.ylabel('y')\n",
    "plt.plot(x_axis, fy_axis, color='r', label='f(x)', lw=2, fillstyle='none', marker='o')\n",
    "plt.plot(x_axis, gy_axis, color='b', label='g(x)', lw=2, fillstyle='full', marker='o')\n",
    "plt.legend()\n",
    "plt.show()"
   ],
   "metadata": {
    "collapsed": false
   }
  }
 ],
 "metadata": {
  "kernelspec": {
   "display_name": "Python 3",
   "language": "python",
   "name": "python3"
  },
  "language_info": {
   "codemirror_mode": {
    "name": "ipython",
    "version": 2
   },
   "file_extension": ".py",
   "mimetype": "text/x-python",
   "name": "python",
   "nbconvert_exporter": "python",
   "pygments_lexer": "ipython2",
   "version": "2.7.6"
  }
 },
 "nbformat": 4,
 "nbformat_minor": 0
}
