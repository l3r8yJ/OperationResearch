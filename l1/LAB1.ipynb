{
 "cells": [
  {
   "cell_type": "markdown",
   "id": "e5f785fb",
   "metadata": {},
   "source": [
    "### ЛР 1 Иванчук Иван ВИП-308"
   ]
  },
  {
   "cell_type": "code",
   "execution_count": 10,
   "outputs": [],
   "source": [
    "import math\n",
    "\n",
    "import matplotlib.pyplot as plt\n",
    "import numpy as np"
   ],
   "metadata": {
    "collapsed": false
   }
  },
  {
   "cell_type": "markdown",
   "source": [
    "#### Функция для исследования\n",
    "$f(x) = (1 + x)x + \\frac{1} {1 + x^2}$"
   ],
   "metadata": {
    "collapsed": false
   }
  },
  {
   "cell_type": "code",
   "execution_count": 11,
   "outputs": [],
   "source": [
    "def f(n):\n",
    "    return (1 + n) * n + 1 / (1 + n**2)"
   ],
   "metadata": {
    "collapsed": false
   }
  },
  {
   "cell_type": "markdown",
   "source": [
    "### Поразрядный поиск"
   ],
   "metadata": {
    "collapsed": false
   }
  },
  {
   "cell_type": "code",
   "execution_count": 12,
   "id": "f2931ed0",
   "metadata": {},
   "outputs": [],
   "source": [
    "def search(func, l, r, e):\n",
    "    h = (r - l) / 4\n",
    "    x0 = l\n",
    "    y0 = func(x0)\n",
    "    i = 0\n",
    "    while abs(h) > e:\n",
    "        x1 = x0 + h\n",
    "        y1 = func(x1)\n",
    "        if func(x0) > func(x1):\n",
    "            x0 = x1\n",
    "            y0 = y1\n",
    "            if l < x0 < r:\n",
    "                x1 = x0 + h\n",
    "        if y0 <= func(x1):\n",
    "            x0 = x1\n",
    "            h = - h / 4\n",
    "        i = i + 1\n",
    "    return [x0, y0, i]"
   ]
  },
  {
   "cell_type": "markdown",
   "source": [
    "### Золотое сечение"
   ],
   "metadata": {
    "collapsed": false
   }
  },
  {
   "cell_type": "code",
   "execution_count": 13,
   "outputs": [],
   "source": [
    "def golden_section(func, l, r, e):\n",
    "    phi = (1 + math.sqrt(5)) / 2\n",
    "    resphi = 2 - phi\n",
    "    x1 = l + resphi * (r - l)\n",
    "    x2 = r - resphi * (r - l)\n",
    "    f1 = func(x1)\n",
    "    f2 = func(x2)\n",
    "    count = 0\n",
    "    while True:\n",
    "        if f1 <= f2:\n",
    "            r = x2\n",
    "            x2 = x1\n",
    "            f2 = f1\n",
    "            x1 = l + resphi * (r - l)\n",
    "            f1 = f(x1)\n",
    "        else:\n",
    "            l = x1\n",
    "            x1 = x2\n",
    "            f1 = f2\n",
    "            x2 = r - resphi * (r - l)\n",
    "            f2 = f(x2)\n",
    "        if abs(r - l) < e:\n",
    "            break\n",
    "        count = count + 1\n",
    "    res = (x1 + x2) / 2\n",
    "    return [res, f(res), count]"
   ],
   "metadata": {
    "collapsed": false
   }
  },
  {
   "cell_type": "markdown",
   "source": [
    "$\n",
    "    {\\bf Условия:} \\\\\n",
    "    a = -3 \\\\ b = 2 \\\\ \\epsilon = 0,00000005 \\\\ x \\in [a, b].\n",
    "$"
   ],
   "metadata": {
    "collapsed": false
   }
  },
  {
   "cell_type": "code",
   "execution_count": 14,
   "outputs": [],
   "source": [
    "a = -3\n",
    "b = 2\n",
    "eps = 0.00000005\n",
    "xs = []\n",
    "ys = []"
   ],
   "metadata": {
    "collapsed": false
   }
  },
  {
   "cell_type": "markdown",
   "source": [
    "#### _Поразрядный поиск_"
   ],
   "metadata": {
    "collapsed": false
   }
  },
  {
   "cell_type": "code",
   "execution_count": 15,
   "outputs": [
    {
     "name": "stdout",
     "output_type": "stream",
     "text": [
      "x min = -0.7978824824094772 y min = 0.4497506819115449 iterations: 48\n"
     ]
    }
   ],
   "source": [
    "src = search(f, a, b, eps)\n",
    "print('x min = ' + str(src[0]), 'y min = ' + str(src[1]), 'iterations: ' + str(src[2]))"
   ],
   "metadata": {
    "collapsed": false
   }
  },
  {
   "cell_type": "markdown",
   "source": [
    "#### _Золотое сечение_"
   ],
   "metadata": {
    "collapsed": false
   }
  },
  {
   "cell_type": "code",
   "execution_count": 16,
   "outputs": [
    {
     "name": "stdout",
     "output_type": "stream",
     "text": [
      "x min = -0.7978825541984409 y min = 0.44975068191154494 iterations: 38\n"
     ]
    }
   ],
   "source": [
    "selection = golden_section(f, a, b, eps)\n",
    "print('x min = ' + str(selection[0]), 'y min = ' + str(selection[1]), 'iterations: ' + str(selection[2]))"
   ],
   "metadata": {
    "collapsed": false
   }
  },
  {
   "cell_type": "code",
   "execution_count": 17,
   "outputs": [],
   "source": [
    "for x in np.arange(a, b, 0.01):\n",
    "    xs.append(x)\n",
    "    ys.append(f(x))"
   ],
   "metadata": {
    "collapsed": false
   }
  },
  {
   "cell_type": "markdown",
   "source": [
    "### График функции:"
   ],
   "metadata": {
    "collapsed": false
   }
  },
  {
   "cell_type": "code",
   "execution_count": 18,
   "outputs": [
    {
     "data": {
      "text/plain": "<Figure size 432x288 with 1 Axes>",
      "image/png": "[encoded data removed]"
     },
     "metadata": {
      "needs_background": "light"
     },
     "output_type": "display_data"
    },
    {
     "data": {
      "text/plain": "<Figure size 3000x3000 with 0 Axes>"
     },
     "execution_count": 18,
     "metadata": {},
     "output_type": "execute_result"
    },
    {
     "data": {
      "text/plain": "<Figure size 3000x3000 with 0 Axes>"
     },
     "metadata": {},
     "output_type": "display_data"
    }
   ],
   "source": [
    "plt.plot(xs, ys)\n",
    "plt.xlabel('x')\n",
    "plt.ylabel('f(x)')\n",
    "plt.show()\n",
    "plt.figure(figsize=(10, 10), dpi=300)"
   ],
   "metadata": {
    "collapsed": false
   }
  }
 ],
 "metadata": {
  "kernelspec": {
   "display_name": "Python 3 (ipykernel)",
   "language": "python",
   "name": "python3"
  },
  "language_info": {
   "codemirror_mode": {
    "name": "ipython",
    "version": 3
   },
   "file_extension": ".py",
   "mimetype": "text/x-python",
   "name": "python",
   "nbconvert_exporter": "python",
   "pygments_lexer": "ipython3",
   "version": "3.9.12"
  }
 },
 "nbformat": 4,
 "nbformat_minor": 5
}
